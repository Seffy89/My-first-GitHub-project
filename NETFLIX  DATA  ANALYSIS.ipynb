{
 "cells": [
  {
   "cell_type": "code",
   "execution_count": 1,
   "id": "d4fe223b",
   "metadata": {
    "slideshow": {
     "slide_type": "-"
    }
   },
   "outputs": [],
   "source": [
    "import pandas as pd\n",
    "import numpy as np\n",
    "import seaborn as sns\n",
    "import matplotlib.pyplot as plt"
   ]
  },
  {
   "cell_type": "code",
   "execution_count": 2,
   "id": "6beaf94e",
   "metadata": {
    "slideshow": {
     "slide_type": "slide"
    }
   },
   "outputs": [],
   "source": [
    "df = pd.read_csv('netflix_titles.csv')"
   ]
  },
  {
   "cell_type": "code",
   "execution_count": 3,
   "id": "a3c188ce",
   "metadata": {
    "slideshow": {
     "slide_type": "slide"
    }
   },
   "outputs": [
    {
     "data": {
      "text/html": [
       "<div>\n",
       "<style scoped>\n",
       "    .dataframe tbody tr th:only-of-type {\n",
       "        vertical-align: middle;\n",
       "    }\n",
       "\n",
       "    .dataframe tbody tr th {\n",
       "        vertical-align: top;\n",
       "    }\n",
       "\n",
       "    .dataframe thead th {\n",
       "        text-align: right;\n",
       "    }\n",
       "</style>\n",
       "<table border=\"1\" class=\"dataframe\">\n",
       "  <thead>\n",
       "    <tr style=\"text-align: right;\">\n",
       "      <th></th>\n",
       "      <th>show_id</th>\n",
       "      <th>type</th>\n",
       "      <th>title</th>\n",
       "      <th>director</th>\n",
       "      <th>cast</th>\n",
       "      <th>country</th>\n",
       "      <th>date_added</th>\n",
       "      <th>release_year</th>\n",
       "      <th>rating</th>\n",
       "      <th>duration</th>\n",
       "      <th>listed_in</th>\n",
       "      <th>description</th>\n",
       "    </tr>\n",
       "  </thead>\n",
       "  <tbody>\n",
       "    <tr>\n",
       "      <th>0</th>\n",
       "      <td>s1</td>\n",
       "      <td>Movie</td>\n",
       "      <td>Dick Johnson Is Dead</td>\n",
       "      <td>Kirsten Johnson</td>\n",
       "      <td>NaN</td>\n",
       "      <td>United States</td>\n",
       "      <td>September 25, 2021</td>\n",
       "      <td>2020</td>\n",
       "      <td>PG-13</td>\n",
       "      <td>90 min</td>\n",
       "      <td>Documentaries</td>\n",
       "      <td>As her father nears the end of his life, filmm...</td>\n",
       "    </tr>\n",
       "    <tr>\n",
       "      <th>1</th>\n",
       "      <td>s2</td>\n",
       "      <td>TV Show</td>\n",
       "      <td>Blood &amp; Water</td>\n",
       "      <td>NaN</td>\n",
       "      <td>Ama Qamata, Khosi Ngema, Gail Mabalane, Thaban...</td>\n",
       "      <td>South Africa</td>\n",
       "      <td>September 24, 2021</td>\n",
       "      <td>2021</td>\n",
       "      <td>TV-MA</td>\n",
       "      <td>2 Seasons</td>\n",
       "      <td>International TV Shows, TV Dramas, TV Mysteries</td>\n",
       "      <td>After crossing paths at a party, a Cape Town t...</td>\n",
       "    </tr>\n",
       "    <tr>\n",
       "      <th>2</th>\n",
       "      <td>s3</td>\n",
       "      <td>TV Show</td>\n",
       "      <td>Ganglands</td>\n",
       "      <td>Julien Leclercq</td>\n",
       "      <td>Sami Bouajila, Tracy Gotoas, Samuel Jouy, Nabi...</td>\n",
       "      <td>NaN</td>\n",
       "      <td>September 24, 2021</td>\n",
       "      <td>2021</td>\n",
       "      <td>TV-MA</td>\n",
       "      <td>1 Season</td>\n",
       "      <td>Crime TV Shows, International TV Shows, TV Act...</td>\n",
       "      <td>To protect his family from a powerful drug lor...</td>\n",
       "    </tr>\n",
       "    <tr>\n",
       "      <th>3</th>\n",
       "      <td>s4</td>\n",
       "      <td>TV Show</td>\n",
       "      <td>Jailbirds New Orleans</td>\n",
       "      <td>NaN</td>\n",
       "      <td>NaN</td>\n",
       "      <td>NaN</td>\n",
       "      <td>September 24, 2021</td>\n",
       "      <td>2021</td>\n",
       "      <td>TV-MA</td>\n",
       "      <td>1 Season</td>\n",
       "      <td>Docuseries, Reality TV</td>\n",
       "      <td>Feuds, flirtations and toilet talk go down amo...</td>\n",
       "    </tr>\n",
       "    <tr>\n",
       "      <th>4</th>\n",
       "      <td>s5</td>\n",
       "      <td>TV Show</td>\n",
       "      <td>Kota Factory</td>\n",
       "      <td>NaN</td>\n",
       "      <td>Mayur More, Jitendra Kumar, Ranjan Raj, Alam K...</td>\n",
       "      <td>India</td>\n",
       "      <td>September 24, 2021</td>\n",
       "      <td>2021</td>\n",
       "      <td>TV-MA</td>\n",
       "      <td>2 Seasons</td>\n",
       "      <td>International TV Shows, Romantic TV Shows, TV ...</td>\n",
       "      <td>In a city of coaching centers known to train I...</td>\n",
       "    </tr>\n",
       "  </tbody>\n",
       "</table>\n",
       "</div>"
      ],
      "text/plain": [
       "  show_id     type                  title         director  \\\n",
       "0      s1    Movie   Dick Johnson Is Dead  Kirsten Johnson   \n",
       "1      s2  TV Show          Blood & Water              NaN   \n",
       "2      s3  TV Show              Ganglands  Julien Leclercq   \n",
       "3      s4  TV Show  Jailbirds New Orleans              NaN   \n",
       "4      s5  TV Show           Kota Factory              NaN   \n",
       "\n",
       "                                                cast        country  \\\n",
       "0                                                NaN  United States   \n",
       "1  Ama Qamata, Khosi Ngema, Gail Mabalane, Thaban...   South Africa   \n",
       "2  Sami Bouajila, Tracy Gotoas, Samuel Jouy, Nabi...            NaN   \n",
       "3                                                NaN            NaN   \n",
       "4  Mayur More, Jitendra Kumar, Ranjan Raj, Alam K...          India   \n",
       "\n",
       "           date_added  release_year rating   duration  \\\n",
       "0  September 25, 2021          2020  PG-13     90 min   \n",
       "1  September 24, 2021          2021  TV-MA  2 Seasons   \n",
       "2  September 24, 2021          2021  TV-MA   1 Season   \n",
       "3  September 24, 2021          2021  TV-MA   1 Season   \n",
       "4  September 24, 2021          2021  TV-MA  2 Seasons   \n",
       "\n",
       "                                           listed_in  \\\n",
       "0                                      Documentaries   \n",
       "1    International TV Shows, TV Dramas, TV Mysteries   \n",
       "2  Crime TV Shows, International TV Shows, TV Act...   \n",
       "3                             Docuseries, Reality TV   \n",
       "4  International TV Shows, Romantic TV Shows, TV ...   \n",
       "\n",
       "                                         description  \n",
       "0  As her father nears the end of his life, filmm...  \n",
       "1  After crossing paths at a party, a Cape Town t...  \n",
       "2  To protect his family from a powerful drug lor...  \n",
       "3  Feuds, flirtations and toilet talk go down amo...  \n",
       "4  In a city of coaching centers known to train I...  "
      ]
     },
     "execution_count": 3,
     "metadata": {},
     "output_type": "execute_result"
    }
   ],
   "source": [
    "df.head()"
   ]
  },
  {
   "cell_type": "code",
   "execution_count": 4,
   "id": "df145150",
   "metadata": {},
   "outputs": [
    {
     "data": {
      "text/plain": [
       "(8807, 12)"
      ]
     },
     "execution_count": 4,
     "metadata": {},
     "output_type": "execute_result"
    }
   ],
   "source": [
    "df.shape"
   ]
  },
  {
   "cell_type": "code",
   "execution_count": 5,
   "id": "cab2569c",
   "metadata": {},
   "outputs": [
    {
     "data": {
      "text/html": [
       "<div>\n",
       "<style scoped>\n",
       "    .dataframe tbody tr th:only-of-type {\n",
       "        vertical-align: middle;\n",
       "    }\n",
       "\n",
       "    .dataframe tbody tr th {\n",
       "        vertical-align: top;\n",
       "    }\n",
       "\n",
       "    .dataframe thead th {\n",
       "        text-align: right;\n",
       "    }\n",
       "</style>\n",
       "<table border=\"1\" class=\"dataframe\">\n",
       "  <thead>\n",
       "    <tr style=\"text-align: right;\">\n",
       "      <th></th>\n",
       "      <th>release_year</th>\n",
       "    </tr>\n",
       "  </thead>\n",
       "  <tbody>\n",
       "    <tr>\n",
       "      <th>count</th>\n",
       "      <td>8807.000000</td>\n",
       "    </tr>\n",
       "    <tr>\n",
       "      <th>mean</th>\n",
       "      <td>2014.180198</td>\n",
       "    </tr>\n",
       "    <tr>\n",
       "      <th>std</th>\n",
       "      <td>8.819312</td>\n",
       "    </tr>\n",
       "    <tr>\n",
       "      <th>min</th>\n",
       "      <td>1925.000000</td>\n",
       "    </tr>\n",
       "    <tr>\n",
       "      <th>25%</th>\n",
       "      <td>2013.000000</td>\n",
       "    </tr>\n",
       "    <tr>\n",
       "      <th>50%</th>\n",
       "      <td>2017.000000</td>\n",
       "    </tr>\n",
       "    <tr>\n",
       "      <th>75%</th>\n",
       "      <td>2019.000000</td>\n",
       "    </tr>\n",
       "    <tr>\n",
       "      <th>max</th>\n",
       "      <td>2021.000000</td>\n",
       "    </tr>\n",
       "  </tbody>\n",
       "</table>\n",
       "</div>"
      ],
      "text/plain": [
       "       release_year\n",
       "count   8807.000000\n",
       "mean    2014.180198\n",
       "std        8.819312\n",
       "min     1925.000000\n",
       "25%     2013.000000\n",
       "50%     2017.000000\n",
       "75%     2019.000000\n",
       "max     2021.000000"
      ]
     },
     "execution_count": 5,
     "metadata": {},
     "output_type": "execute_result"
    }
   ],
   "source": [
    "df.describe()"
   ]
  },
  {
   "cell_type": "code",
   "execution_count": 6,
   "id": "f9ccf4b5",
   "metadata": {},
   "outputs": [
    {
     "name": "stdout",
     "output_type": "stream",
     "text": [
      "<class 'pandas.core.frame.DataFrame'>\n",
      "RangeIndex: 8807 entries, 0 to 8806\n",
      "Data columns (total 12 columns):\n",
      " #   Column        Non-Null Count  Dtype \n",
      "---  ------        --------------  ----- \n",
      " 0   show_id       8807 non-null   object\n",
      " 1   type          8807 non-null   object\n",
      " 2   title         8807 non-null   object\n",
      " 3   director      6173 non-null   object\n",
      " 4   cast          7982 non-null   object\n",
      " 5   country       7976 non-null   object\n",
      " 6   date_added    8797 non-null   object\n",
      " 7   release_year  8807 non-null   int64 \n",
      " 8   rating        8803 non-null   object\n",
      " 9   duration      8804 non-null   object\n",
      " 10  listed_in     8807 non-null   object\n",
      " 11  description   8807 non-null   object\n",
      "dtypes: int64(1), object(11)\n",
      "memory usage: 825.8+ KB\n"
     ]
    }
   ],
   "source": [
    "df.info()"
   ]
  },
  {
   "cell_type": "code",
   "execution_count": 9,
   "id": "ad04b428",
   "metadata": {},
   "outputs": [
    {
     "data": {
      "text/plain": [
       "show_id            0\n",
       "type               0\n",
       "title              0\n",
       "director        2634\n",
       "cast             825\n",
       "country          831\n",
       "date_added        10\n",
       "release_year       0\n",
       "rating             4\n",
       "duration           3\n",
       "listed_in          0\n",
       "description        0\n",
       "dtype: int64"
      ]
     },
     "execution_count": 9,
     "metadata": {},
     "output_type": "execute_result"
    }
   ],
   "source": [
    "#sum of null values\n",
    "df.isna().sum()"
   ]
  },
  {
   "cell_type": "code",
   "execution_count": 14,
   "id": "34b73a25",
   "metadata": {},
   "outputs": [],
   "source": [
    "df['date_added'] = pd.to_datetime(df['date_added'], errors='coerce', infer_datetime_format=True)\n"
   ]
  },
  {
   "cell_type": "code",
   "execution_count": 11,
   "id": "ec705749",
   "metadata": {},
   "outputs": [],
   "source": [
    "df['date_added'] = df['date_added'].fillna(df['date_added'])"
   ]
  },
  {
   "cell_type": "code",
   "execution_count": 15,
   "id": "5878e0d9",
   "metadata": {},
   "outputs": [
    {
     "data": {
      "text/html": [
       "<div>\n",
       "<style scoped>\n",
       "    .dataframe tbody tr th:only-of-type {\n",
       "        vertical-align: middle;\n",
       "    }\n",
       "\n",
       "    .dataframe tbody tr th {\n",
       "        vertical-align: top;\n",
       "    }\n",
       "\n",
       "    .dataframe thead th {\n",
       "        text-align: right;\n",
       "    }\n",
       "</style>\n",
       "<table border=\"1\" class=\"dataframe\">\n",
       "  <thead>\n",
       "    <tr style=\"text-align: right;\">\n",
       "      <th></th>\n",
       "      <th>show_id</th>\n",
       "      <th>type</th>\n",
       "      <th>title</th>\n",
       "      <th>director</th>\n",
       "      <th>cast</th>\n",
       "      <th>country</th>\n",
       "      <th>date_added</th>\n",
       "      <th>release_year</th>\n",
       "      <th>rating</th>\n",
       "      <th>duration</th>\n",
       "      <th>listed_in</th>\n",
       "      <th>description</th>\n",
       "    </tr>\n",
       "  </thead>\n",
       "  <tbody>\n",
       "    <tr>\n",
       "      <th>0</th>\n",
       "      <td>s1</td>\n",
       "      <td>Movie</td>\n",
       "      <td>Dick Johnson Is Dead</td>\n",
       "      <td>Kirsten Johnson</td>\n",
       "      <td>NaN</td>\n",
       "      <td>United States</td>\n",
       "      <td>2021-09-25</td>\n",
       "      <td>2020</td>\n",
       "      <td>PG-13</td>\n",
       "      <td>90 min</td>\n",
       "      <td>Documentaries</td>\n",
       "      <td>As her father nears the end of his life, filmm...</td>\n",
       "    </tr>\n",
       "    <tr>\n",
       "      <th>1</th>\n",
       "      <td>s2</td>\n",
       "      <td>TV Show</td>\n",
       "      <td>Blood &amp; Water</td>\n",
       "      <td>NaN</td>\n",
       "      <td>Ama Qamata, Khosi Ngema, Gail Mabalane, Thaban...</td>\n",
       "      <td>South Africa</td>\n",
       "      <td>2021-09-24</td>\n",
       "      <td>2021</td>\n",
       "      <td>TV-MA</td>\n",
       "      <td>2 Seasons</td>\n",
       "      <td>International TV Shows, TV Dramas, TV Mysteries</td>\n",
       "      <td>After crossing paths at a party, a Cape Town t...</td>\n",
       "    </tr>\n",
       "  </tbody>\n",
       "</table>\n",
       "</div>"
      ],
      "text/plain": [
       "  show_id     type                 title         director  \\\n",
       "0      s1    Movie  Dick Johnson Is Dead  Kirsten Johnson   \n",
       "1      s2  TV Show         Blood & Water              NaN   \n",
       "\n",
       "                                                cast        country  \\\n",
       "0                                                NaN  United States   \n",
       "1  Ama Qamata, Khosi Ngema, Gail Mabalane, Thaban...   South Africa   \n",
       "\n",
       "  date_added  release_year rating   duration  \\\n",
       "0 2021-09-25          2020  PG-13     90 min   \n",
       "1 2021-09-24          2021  TV-MA  2 Seasons   \n",
       "\n",
       "                                         listed_in  \\\n",
       "0                                    Documentaries   \n",
       "1  International TV Shows, TV Dramas, TV Mysteries   \n",
       "\n",
       "                                         description  \n",
       "0  As her father nears the end of his life, filmm...  \n",
       "1  After crossing paths at a party, a Cape Town t...  "
      ]
     },
     "execution_count": 15,
     "metadata": {},
     "output_type": "execute_result"
    }
   ],
   "source": [
    "df.head(2)"
   ]
  },
  {
   "cell_type": "code",
   "execution_count": 18,
   "id": "15df4404",
   "metadata": {},
   "outputs": [
    {
     "data": {
      "text/plain": [
       "show_id          0\n",
       "type             0\n",
       "title            0\n",
       "director         0\n",
       "cast             0\n",
       "country          0\n",
       "date_added      98\n",
       "release_year     0\n",
       "rating           0\n",
       "duration         3\n",
       "listed_in        0\n",
       "description      0\n",
       "dtype: int64"
      ]
     },
     "execution_count": 18,
     "metadata": {},
     "output_type": "execute_result"
    }
   ],
   "source": [
    "df.fillna({'rating': 'Unavailable', 'cast': 'Unavailable', 'country': 'Unavailable', 'director': 'Unavailable'}, inplace = True)\n",
    "df.isna().sum()"
   ]
  },
  {
   "cell_type": "code",
   "execution_count": 34,
   "id": "16cef5ec",
   "metadata": {},
   "outputs": [
    {
     "data": {
      "text/html": [
       "<div>\n",
       "<style scoped>\n",
       "    .dataframe tbody tr th:only-of-type {\n",
       "        vertical-align: middle;\n",
       "    }\n",
       "\n",
       "    .dataframe tbody tr th {\n",
       "        vertical-align: top;\n",
       "    }\n",
       "\n",
       "    .dataframe thead th {\n",
       "        text-align: right;\n",
       "    }\n",
       "</style>\n",
       "<table border=\"1\" class=\"dataframe\">\n",
       "  <thead>\n",
       "    <tr style=\"text-align: right;\">\n",
       "      <th></th>\n",
       "      <th>show_id</th>\n",
       "      <th>type</th>\n",
       "      <th>title</th>\n",
       "      <th>director</th>\n",
       "      <th>cast</th>\n",
       "      <th>country</th>\n",
       "      <th>date_added</th>\n",
       "      <th>release_year</th>\n",
       "      <th>rating</th>\n",
       "      <th>duration</th>\n",
       "      <th>listed_in</th>\n",
       "      <th>description</th>\n",
       "    </tr>\n",
       "  </thead>\n",
       "  <tbody>\n",
       "    <tr>\n",
       "      <th>6066</th>\n",
       "      <td>s6067</td>\n",
       "      <td>TV Show</td>\n",
       "      <td>A Young Doctor's Notebook and Other Stories</td>\n",
       "      <td>Unavailable</td>\n",
       "      <td>Daniel Radcliffe, Jon Hamm, Adam Godley, Chris...</td>\n",
       "      <td>United Kingdom</td>\n",
       "      <td>NaT</td>\n",
       "      <td>2013</td>\n",
       "      <td>TV-MA</td>\n",
       "      <td>2 Seasons</td>\n",
       "      <td>British TV Shows, TV Comedies, TV Dramas</td>\n",
       "      <td>Set during the Russian Revolution, this comic ...</td>\n",
       "    </tr>\n",
       "    <tr>\n",
       "      <th>6079</th>\n",
       "      <td>s6080</td>\n",
       "      <td>TV Show</td>\n",
       "      <td>Abnormal Summit</td>\n",
       "      <td>Jung-ah Im, Seung-uk Jo</td>\n",
       "      <td>Hyun-moo Jun, Si-kyung Sung, Se-yoon Yoo</td>\n",
       "      <td>South Korea</td>\n",
       "      <td>NaT</td>\n",
       "      <td>2017</td>\n",
       "      <td>TV-PG</td>\n",
       "      <td>2 Seasons</td>\n",
       "      <td>International TV Shows, Korean TV Shows, Stand...</td>\n",
       "      <td>Led by a trio of Korean celebs, a multinationa...</td>\n",
       "    </tr>\n",
       "    <tr>\n",
       "      <th>6174</th>\n",
       "      <td>s6175</td>\n",
       "      <td>TV Show</td>\n",
       "      <td>Anthony Bourdain: Parts Unknown</td>\n",
       "      <td>Unavailable</td>\n",
       "      <td>Anthony Bourdain</td>\n",
       "      <td>United States</td>\n",
       "      <td>NaT</td>\n",
       "      <td>2018</td>\n",
       "      <td>TV-PG</td>\n",
       "      <td>5 Seasons</td>\n",
       "      <td>Docuseries</td>\n",
       "      <td>This CNN original series has chef Anthony Bour...</td>\n",
       "    </tr>\n",
       "    <tr>\n",
       "      <th>6177</th>\n",
       "      <td>s6178</td>\n",
       "      <td>TV Show</td>\n",
       "      <td>忍者ハットリくん</td>\n",
       "      <td>Unavailable</td>\n",
       "      <td>Unavailable</td>\n",
       "      <td>Japan</td>\n",
       "      <td>NaT</td>\n",
       "      <td>2012</td>\n",
       "      <td>TV-Y7</td>\n",
       "      <td>2 Seasons</td>\n",
       "      <td>Anime Series, Kids' TV</td>\n",
       "      <td>Hailing from the mountains of Iga, Kanzo Hatto...</td>\n",
       "    </tr>\n",
       "    <tr>\n",
       "      <th>6213</th>\n",
       "      <td>s6214</td>\n",
       "      <td>TV Show</td>\n",
       "      <td>Bad Education</td>\n",
       "      <td>Unavailable</td>\n",
       "      <td>Jack Whitehall, Mathew Horne, Sarah Solemani, ...</td>\n",
       "      <td>United Kingdom</td>\n",
       "      <td>NaT</td>\n",
       "      <td>2014</td>\n",
       "      <td>TV-MA</td>\n",
       "      <td>3 Seasons</td>\n",
       "      <td>British TV Shows, TV Comedies</td>\n",
       "      <td>A history teacher at the posh Abbey Grove, Alf...</td>\n",
       "    </tr>\n",
       "    <tr>\n",
       "      <th>...</th>\n",
       "      <td>...</td>\n",
       "      <td>...</td>\n",
       "      <td>...</td>\n",
       "      <td>...</td>\n",
       "      <td>...</td>\n",
       "      <td>...</td>\n",
       "      <td>...</td>\n",
       "      <td>...</td>\n",
       "      <td>...</td>\n",
       "      <td>...</td>\n",
       "      <td>...</td>\n",
       "      <td>...</td>\n",
       "    </tr>\n",
       "    <tr>\n",
       "      <th>8539</th>\n",
       "      <td>s8540</td>\n",
       "      <td>TV Show</td>\n",
       "      <td>The Tudors</td>\n",
       "      <td>Unavailable</td>\n",
       "      <td>Jonathan Rhys Meyers, Henry Cavill, James Frai...</td>\n",
       "      <td>Ireland, Canada, United States, United Kingdom</td>\n",
       "      <td>NaT</td>\n",
       "      <td>2010</td>\n",
       "      <td>TV-MA</td>\n",
       "      <td>4 Seasons</td>\n",
       "      <td>TV Dramas</td>\n",
       "      <td>All the splendor and scandal of England's 16th...</td>\n",
       "    </tr>\n",
       "    <tr>\n",
       "      <th>8557</th>\n",
       "      <td>s8558</td>\n",
       "      <td>TV Show</td>\n",
       "      <td>The West Wing</td>\n",
       "      <td>Unavailable</td>\n",
       "      <td>Martin Sheen, Rob Lowe, Allison Janney, John S...</td>\n",
       "      <td>United States</td>\n",
       "      <td>NaT</td>\n",
       "      <td>2005</td>\n",
       "      <td>TV-14</td>\n",
       "      <td>7 Seasons</td>\n",
       "      <td>TV Dramas</td>\n",
       "      <td>This powerful political epic chronicles the tr...</td>\n",
       "    </tr>\n",
       "    <tr>\n",
       "      <th>8684</th>\n",
       "      <td>s8685</td>\n",
       "      <td>TV Show</td>\n",
       "      <td>Vroomiz</td>\n",
       "      <td>Unavailable</td>\n",
       "      <td>Joon-seok Song, Jeong-hwa Yang, Sang-hyun Um, ...</td>\n",
       "      <td>South Korea</td>\n",
       "      <td>NaT</td>\n",
       "      <td>2016</td>\n",
       "      <td>TV-Y</td>\n",
       "      <td>3 Seasons</td>\n",
       "      <td>Kids' TV, Korean TV Shows</td>\n",
       "      <td>For these half-car, half-animal friends, each ...</td>\n",
       "    </tr>\n",
       "    <tr>\n",
       "      <th>8712</th>\n",
       "      <td>s8713</td>\n",
       "      <td>TV Show</td>\n",
       "      <td>Weird Wonders of the World</td>\n",
       "      <td>Unavailable</td>\n",
       "      <td>Chris Packham</td>\n",
       "      <td>United Kingdom</td>\n",
       "      <td>NaT</td>\n",
       "      <td>2016</td>\n",
       "      <td>TV-PG</td>\n",
       "      <td>2 Seasons</td>\n",
       "      <td>British TV Shows, Docuseries, Science &amp; Nature TV</td>\n",
       "      <td>From animal oddities and bizarre science to me...</td>\n",
       "    </tr>\n",
       "    <tr>\n",
       "      <th>8755</th>\n",
       "      <td>s8756</td>\n",
       "      <td>TV Show</td>\n",
       "      <td>Women Behind Bars</td>\n",
       "      <td>Unavailable</td>\n",
       "      <td>Unavailable</td>\n",
       "      <td>United States</td>\n",
       "      <td>NaT</td>\n",
       "      <td>2010</td>\n",
       "      <td>TV-14</td>\n",
       "      <td>3 Seasons</td>\n",
       "      <td>Crime TV Shows, Docuseries</td>\n",
       "      <td>This reality series recounts true stories of w...</td>\n",
       "    </tr>\n",
       "  </tbody>\n",
       "</table>\n",
       "<p>98 rows × 12 columns</p>\n",
       "</div>"
      ],
      "text/plain": [
       "     show_id     type                                        title  \\\n",
       "6066   s6067  TV Show  A Young Doctor's Notebook and Other Stories   \n",
       "6079   s6080  TV Show                              Abnormal Summit   \n",
       "6174   s6175  TV Show              Anthony Bourdain: Parts Unknown   \n",
       "6177   s6178  TV Show                                     忍者ハットリくん   \n",
       "6213   s6214  TV Show                                Bad Education   \n",
       "...      ...      ...                                          ...   \n",
       "8539   s8540  TV Show                                   The Tudors   \n",
       "8557   s8558  TV Show                                The West Wing   \n",
       "8684   s8685  TV Show                                      Vroomiz   \n",
       "8712   s8713  TV Show                   Weird Wonders of the World   \n",
       "8755   s8756  TV Show                            Women Behind Bars   \n",
       "\n",
       "                     director  \\\n",
       "6066              Unavailable   \n",
       "6079  Jung-ah Im, Seung-uk Jo   \n",
       "6174              Unavailable   \n",
       "6177              Unavailable   \n",
       "6213              Unavailable   \n",
       "...                       ...   \n",
       "8539              Unavailable   \n",
       "8557              Unavailable   \n",
       "8684              Unavailable   \n",
       "8712              Unavailable   \n",
       "8755              Unavailable   \n",
       "\n",
       "                                                   cast  \\\n",
       "6066  Daniel Radcliffe, Jon Hamm, Adam Godley, Chris...   \n",
       "6079           Hyun-moo Jun, Si-kyung Sung, Se-yoon Yoo   \n",
       "6174                                   Anthony Bourdain   \n",
       "6177                                        Unavailable   \n",
       "6213  Jack Whitehall, Mathew Horne, Sarah Solemani, ...   \n",
       "...                                                 ...   \n",
       "8539  Jonathan Rhys Meyers, Henry Cavill, James Frai...   \n",
       "8557  Martin Sheen, Rob Lowe, Allison Janney, John S...   \n",
       "8684  Joon-seok Song, Jeong-hwa Yang, Sang-hyun Um, ...   \n",
       "8712                                      Chris Packham   \n",
       "8755                                        Unavailable   \n",
       "\n",
       "                                             country date_added  release_year  \\\n",
       "6066                                  United Kingdom        NaT          2013   \n",
       "6079                                     South Korea        NaT          2017   \n",
       "6174                                   United States        NaT          2018   \n",
       "6177                                           Japan        NaT          2012   \n",
       "6213                                  United Kingdom        NaT          2014   \n",
       "...                                              ...        ...           ...   \n",
       "8539  Ireland, Canada, United States, United Kingdom        NaT          2010   \n",
       "8557                                   United States        NaT          2005   \n",
       "8684                                     South Korea        NaT          2016   \n",
       "8712                                  United Kingdom        NaT          2016   \n",
       "8755                                   United States        NaT          2010   \n",
       "\n",
       "     rating   duration                                          listed_in  \\\n",
       "6066  TV-MA  2 Seasons           British TV Shows, TV Comedies, TV Dramas   \n",
       "6079  TV-PG  2 Seasons  International TV Shows, Korean TV Shows, Stand...   \n",
       "6174  TV-PG  5 Seasons                                         Docuseries   \n",
       "6177  TV-Y7  2 Seasons                             Anime Series, Kids' TV   \n",
       "6213  TV-MA  3 Seasons                      British TV Shows, TV Comedies   \n",
       "...     ...        ...                                                ...   \n",
       "8539  TV-MA  4 Seasons                                          TV Dramas   \n",
       "8557  TV-14  7 Seasons                                          TV Dramas   \n",
       "8684   TV-Y  3 Seasons                          Kids' TV, Korean TV Shows   \n",
       "8712  TV-PG  2 Seasons  British TV Shows, Docuseries, Science & Nature TV   \n",
       "8755  TV-14  3 Seasons                         Crime TV Shows, Docuseries   \n",
       "\n",
       "                                            description  \n",
       "6066  Set during the Russian Revolution, this comic ...  \n",
       "6079  Led by a trio of Korean celebs, a multinationa...  \n",
       "6174  This CNN original series has chef Anthony Bour...  \n",
       "6177  Hailing from the mountains of Iga, Kanzo Hatto...  \n",
       "6213  A history teacher at the posh Abbey Grove, Alf...  \n",
       "...                                                 ...  \n",
       "8539  All the splendor and scandal of England's 16th...  \n",
       "8557  This powerful political epic chronicles the tr...  \n",
       "8684  For these half-car, half-animal friends, each ...  \n",
       "8712  From animal oddities and bizarre science to me...  \n",
       "8755  This reality series recounts true stories of w...  \n",
       "\n",
       "[98 rows x 12 columns]"
      ]
     },
     "execution_count": 34,
     "metadata": {},
     "output_type": "execute_result"
    }
   ],
   "source": [
    "df [df.date_added.isnull()]"
   ]
  },
  {
   "cell_type": "code",
   "execution_count": 44,
   "id": "2fa05a89",
   "metadata": {},
   "outputs": [],
   "source": [
    "most_recent_entry_date=df['date_added'].max()\n",
    "df.fillna({'date_added': most_recent_entry_date}, inplace = True)"
   ]
  },
  {
   "cell_type": "code",
   "execution_count": 45,
   "id": "c10a70d7",
   "metadata": {},
   "outputs": [
    {
     "data": {
      "text/html": [
       "<div>\n",
       "<style scoped>\n",
       "    .dataframe tbody tr th:only-of-type {\n",
       "        vertical-align: middle;\n",
       "    }\n",
       "\n",
       "    .dataframe tbody tr th {\n",
       "        vertical-align: top;\n",
       "    }\n",
       "\n",
       "    .dataframe thead th {\n",
       "        text-align: right;\n",
       "    }\n",
       "</style>\n",
       "<table border=\"1\" class=\"dataframe\">\n",
       "  <thead>\n",
       "    <tr style=\"text-align: right;\">\n",
       "      <th></th>\n",
       "      <th>show_id</th>\n",
       "      <th>type</th>\n",
       "      <th>title</th>\n",
       "      <th>director</th>\n",
       "      <th>cast</th>\n",
       "      <th>country</th>\n",
       "      <th>date_added</th>\n",
       "      <th>release_year</th>\n",
       "      <th>rating</th>\n",
       "      <th>duration</th>\n",
       "      <th>listed_in</th>\n",
       "      <th>description</th>\n",
       "    </tr>\n",
       "  </thead>\n",
       "  <tbody>\n",
       "    <tr>\n",
       "      <th>8754</th>\n",
       "      <td>s8755</td>\n",
       "      <td>Movie</td>\n",
       "      <td>Wolves</td>\n",
       "      <td>Bart Freundlich</td>\n",
       "      <td>Michael Shannon, Carla Gugino, Taylor John Smi...</td>\n",
       "      <td>United States</td>\n",
       "      <td>2019-03-29</td>\n",
       "      <td>2016</td>\n",
       "      <td>R</td>\n",
       "      <td>109 min</td>\n",
       "      <td>Dramas, Independent Movies, Sports Movies</td>\n",
       "      <td>A promising high school basketball player has ...</td>\n",
       "    </tr>\n",
       "  </tbody>\n",
       "</table>\n",
       "</div>"
      ],
      "text/plain": [
       "     show_id   type   title         director  \\\n",
       "8754   s8755  Movie  Wolves  Bart Freundlich   \n",
       "\n",
       "                                                   cast        country  \\\n",
       "8754  Michael Shannon, Carla Gugino, Taylor John Smi...  United States   \n",
       "\n",
       "     date_added  release_year rating duration  \\\n",
       "8754 2019-03-29          2016      R  109 min   \n",
       "\n",
       "                                      listed_in  \\\n",
       "8754  Dramas, Independent Movies, Sports Movies   \n",
       "\n",
       "                                            description  \n",
       "8754  A promising high school basketball player has ...  "
      ]
     },
     "execution_count": 45,
     "metadata": {},
     "output_type": "execute_result"
    }
   ],
   "source": [
    "df[df.show_id == 's8755']"
   ]
  },
  {
   "cell_type": "code",
   "execution_count": 38,
   "id": "4a2d31b9",
   "metadata": {},
   "outputs": [
    {
     "data": {
      "text/html": [
       "<div>\n",
       "<style scoped>\n",
       "    .dataframe tbody tr th:only-of-type {\n",
       "        vertical-align: middle;\n",
       "    }\n",
       "\n",
       "    .dataframe tbody tr th {\n",
       "        vertical-align: top;\n",
       "    }\n",
       "\n",
       "    .dataframe thead th {\n",
       "        text-align: right;\n",
       "    }\n",
       "</style>\n",
       "<table border=\"1\" class=\"dataframe\">\n",
       "  <thead>\n",
       "    <tr style=\"text-align: right;\">\n",
       "      <th></th>\n",
       "      <th>show_id</th>\n",
       "      <th>type</th>\n",
       "      <th>title</th>\n",
       "      <th>director</th>\n",
       "      <th>cast</th>\n",
       "      <th>country</th>\n",
       "      <th>date_added</th>\n",
       "      <th>release_year</th>\n",
       "      <th>rating</th>\n",
       "      <th>duration</th>\n",
       "      <th>listed_in</th>\n",
       "      <th>description</th>\n",
       "    </tr>\n",
       "  </thead>\n",
       "  <tbody>\n",
       "    <tr>\n",
       "      <th>5541</th>\n",
       "      <td>s5542</td>\n",
       "      <td>Movie</td>\n",
       "      <td>Louis C.K. 2017</td>\n",
       "      <td>Louis C.K.</td>\n",
       "      <td>Louis C.K.</td>\n",
       "      <td>United States</td>\n",
       "      <td>2017-04-04</td>\n",
       "      <td>2017</td>\n",
       "      <td>74 min</td>\n",
       "      <td>NaN</td>\n",
       "      <td>Movies</td>\n",
       "      <td>Louis C.K. muses on religion, eternal love, gi...</td>\n",
       "    </tr>\n",
       "    <tr>\n",
       "      <th>5794</th>\n",
       "      <td>s5795</td>\n",
       "      <td>Movie</td>\n",
       "      <td>Louis C.K.: Hilarious</td>\n",
       "      <td>Louis C.K.</td>\n",
       "      <td>Louis C.K.</td>\n",
       "      <td>United States</td>\n",
       "      <td>2016-09-16</td>\n",
       "      <td>2010</td>\n",
       "      <td>84 min</td>\n",
       "      <td>NaN</td>\n",
       "      <td>Movies</td>\n",
       "      <td>Emmy-winning comedy writer Louis C.K. brings h...</td>\n",
       "    </tr>\n",
       "    <tr>\n",
       "      <th>5813</th>\n",
       "      <td>s5814</td>\n",
       "      <td>Movie</td>\n",
       "      <td>Louis C.K.: Live at the Comedy Store</td>\n",
       "      <td>Louis C.K.</td>\n",
       "      <td>Louis C.K.</td>\n",
       "      <td>United States</td>\n",
       "      <td>2016-08-15</td>\n",
       "      <td>2015</td>\n",
       "      <td>66 min</td>\n",
       "      <td>NaN</td>\n",
       "      <td>Movies</td>\n",
       "      <td>The comic puts his trademark hilarious/thought...</td>\n",
       "    </tr>\n",
       "  </tbody>\n",
       "</table>\n",
       "</div>"
      ],
      "text/plain": [
       "     show_id   type                                 title    director  \\\n",
       "5541   s5542  Movie                       Louis C.K. 2017  Louis C.K.   \n",
       "5794   s5795  Movie                 Louis C.K.: Hilarious  Louis C.K.   \n",
       "5813   s5814  Movie  Louis C.K.: Live at the Comedy Store  Louis C.K.   \n",
       "\n",
       "            cast        country date_added  release_year  rating duration  \\\n",
       "5541  Louis C.K.  United States 2017-04-04          2017  74 min      NaN   \n",
       "5794  Louis C.K.  United States 2016-09-16          2010  84 min      NaN   \n",
       "5813  Louis C.K.  United States 2016-08-15          2015  66 min      NaN   \n",
       "\n",
       "     listed_in                                        description  \n",
       "5541    Movies  Louis C.K. muses on religion, eternal love, gi...  \n",
       "5794    Movies  Emmy-winning comedy writer Louis C.K. brings h...  \n",
       "5813    Movies  The comic puts his trademark hilarious/thought...  "
      ]
     },
     "execution_count": 38,
     "metadata": {},
     "output_type": "execute_result"
    }
   ],
   "source": [
    "df[df.duration.isnull()]"
   ]
  },
  {
   "cell_type": "code",
   "execution_count": 39,
   "id": "f1833fa3",
   "metadata": {},
   "outputs": [
    {
     "data": {
      "text/html": [
       "<div>\n",
       "<style scoped>\n",
       "    .dataframe tbody tr th:only-of-type {\n",
       "        vertical-align: middle;\n",
       "    }\n",
       "\n",
       "    .dataframe tbody tr th {\n",
       "        vertical-align: top;\n",
       "    }\n",
       "\n",
       "    .dataframe thead th {\n",
       "        text-align: right;\n",
       "    }\n",
       "</style>\n",
       "<table border=\"1\" class=\"dataframe\">\n",
       "  <thead>\n",
       "    <tr style=\"text-align: right;\">\n",
       "      <th></th>\n",
       "      <th>show_id</th>\n",
       "      <th>type</th>\n",
       "      <th>title</th>\n",
       "      <th>director</th>\n",
       "      <th>cast</th>\n",
       "      <th>country</th>\n",
       "      <th>date_added</th>\n",
       "      <th>release_year</th>\n",
       "      <th>rating</th>\n",
       "      <th>duration</th>\n",
       "      <th>listed_in</th>\n",
       "      <th>description</th>\n",
       "    </tr>\n",
       "  </thead>\n",
       "  <tbody>\n",
       "    <tr>\n",
       "      <th>5541</th>\n",
       "      <td>s5542</td>\n",
       "      <td>Movie</td>\n",
       "      <td>Louis C.K. 2017</td>\n",
       "      <td>Louis C.K.</td>\n",
       "      <td>Louis C.K.</td>\n",
       "      <td>United States</td>\n",
       "      <td>2017-04-04</td>\n",
       "      <td>2017</td>\n",
       "      <td>74 min</td>\n",
       "      <td>NaN</td>\n",
       "      <td>Movies</td>\n",
       "      <td>Louis C.K. muses on religion, eternal love, gi...</td>\n",
       "    </tr>\n",
       "    <tr>\n",
       "      <th>5794</th>\n",
       "      <td>s5795</td>\n",
       "      <td>Movie</td>\n",
       "      <td>Louis C.K.: Hilarious</td>\n",
       "      <td>Louis C.K.</td>\n",
       "      <td>Louis C.K.</td>\n",
       "      <td>United States</td>\n",
       "      <td>2016-09-16</td>\n",
       "      <td>2010</td>\n",
       "      <td>84 min</td>\n",
       "      <td>NaN</td>\n",
       "      <td>Movies</td>\n",
       "      <td>Emmy-winning comedy writer Louis C.K. brings h...</td>\n",
       "    </tr>\n",
       "    <tr>\n",
       "      <th>5813</th>\n",
       "      <td>s5814</td>\n",
       "      <td>Movie</td>\n",
       "      <td>Louis C.K.: Live at the Comedy Store</td>\n",
       "      <td>Louis C.K.</td>\n",
       "      <td>Louis C.K.</td>\n",
       "      <td>United States</td>\n",
       "      <td>2016-08-15</td>\n",
       "      <td>2015</td>\n",
       "      <td>66 min</td>\n",
       "      <td>NaN</td>\n",
       "      <td>Movies</td>\n",
       "      <td>The comic puts his trademark hilarious/thought...</td>\n",
       "    </tr>\n",
       "  </tbody>\n",
       "</table>\n",
       "</div>"
      ],
      "text/plain": [
       "     show_id   type                                 title    director  \\\n",
       "5541   s5542  Movie                       Louis C.K. 2017  Louis C.K.   \n",
       "5794   s5795  Movie                 Louis C.K.: Hilarious  Louis C.K.   \n",
       "5813   s5814  Movie  Louis C.K.: Live at the Comedy Store  Louis C.K.   \n",
       "\n",
       "            cast        country date_added  release_year  rating duration  \\\n",
       "5541  Louis C.K.  United States 2017-04-04          2017  74 min      NaN   \n",
       "5794  Louis C.K.  United States 2016-09-16          2010  84 min      NaN   \n",
       "5813  Louis C.K.  United States 2016-08-15          2015  66 min      NaN   \n",
       "\n",
       "     listed_in                                        description  \n",
       "5541    Movies  Louis C.K. muses on religion, eternal love, gi...  \n",
       "5794    Movies  Emmy-winning comedy writer Louis C.K. brings h...  \n",
       "5813    Movies  The comic puts his trademark hilarious/thought...  "
      ]
     },
     "execution_count": 39,
     "metadata": {},
     "output_type": "execute_result"
    }
   ],
   "source": [
    "df[df.director == 'Louis C.K.'].head()"
   ]
  },
  {
   "cell_type": "code",
   "execution_count": 41,
   "id": "ceb2775d",
   "metadata": {},
   "outputs": [
    {
     "data": {
      "text/html": [
       "<div>\n",
       "<style scoped>\n",
       "    .dataframe tbody tr th:only-of-type {\n",
       "        vertical-align: middle;\n",
       "    }\n",
       "\n",
       "    .dataframe tbody tr th {\n",
       "        vertical-align: top;\n",
       "    }\n",
       "\n",
       "    .dataframe thead th {\n",
       "        text-align: right;\n",
       "    }\n",
       "</style>\n",
       "<table border=\"1\" class=\"dataframe\">\n",
       "  <thead>\n",
       "    <tr style=\"text-align: right;\">\n",
       "      <th></th>\n",
       "      <th>show_id</th>\n",
       "      <th>type</th>\n",
       "      <th>title</th>\n",
       "      <th>director</th>\n",
       "      <th>cast</th>\n",
       "      <th>country</th>\n",
       "      <th>date_added</th>\n",
       "      <th>release_year</th>\n",
       "      <th>rating</th>\n",
       "      <th>duration</th>\n",
       "      <th>listed_in</th>\n",
       "      <th>description</th>\n",
       "    </tr>\n",
       "  </thead>\n",
       "  <tbody>\n",
       "    <tr>\n",
       "      <th>5541</th>\n",
       "      <td>s5542</td>\n",
       "      <td>Movie</td>\n",
       "      <td>Louis C.K. 2017</td>\n",
       "      <td>Louis C.K.</td>\n",
       "      <td>Louis C.K.</td>\n",
       "      <td>United States</td>\n",
       "      <td>2017-04-04</td>\n",
       "      <td>2017</td>\n",
       "      <td>74 min</td>\n",
       "      <td>74 min</td>\n",
       "      <td>Movies</td>\n",
       "      <td>Louis C.K. muses on religion, eternal love, gi...</td>\n",
       "    </tr>\n",
       "    <tr>\n",
       "      <th>5794</th>\n",
       "      <td>s5795</td>\n",
       "      <td>Movie</td>\n",
       "      <td>Louis C.K.: Hilarious</td>\n",
       "      <td>Louis C.K.</td>\n",
       "      <td>Louis C.K.</td>\n",
       "      <td>United States</td>\n",
       "      <td>2016-09-16</td>\n",
       "      <td>2010</td>\n",
       "      <td>84 min</td>\n",
       "      <td>84 min</td>\n",
       "      <td>Movies</td>\n",
       "      <td>Emmy-winning comedy writer Louis C.K. brings h...</td>\n",
       "    </tr>\n",
       "    <tr>\n",
       "      <th>5813</th>\n",
       "      <td>s5814</td>\n",
       "      <td>Movie</td>\n",
       "      <td>Louis C.K.: Live at the Comedy Store</td>\n",
       "      <td>Louis C.K.</td>\n",
       "      <td>Louis C.K.</td>\n",
       "      <td>United States</td>\n",
       "      <td>2016-08-15</td>\n",
       "      <td>2015</td>\n",
       "      <td>66 min</td>\n",
       "      <td>66 min</td>\n",
       "      <td>Movies</td>\n",
       "      <td>The comic puts his trademark hilarious/thought...</td>\n",
       "    </tr>\n",
       "  </tbody>\n",
       "</table>\n",
       "</div>"
      ],
      "text/plain": [
       "     show_id   type                                 title    director  \\\n",
       "5541   s5542  Movie                       Louis C.K. 2017  Louis C.K.   \n",
       "5794   s5795  Movie                 Louis C.K.: Hilarious  Louis C.K.   \n",
       "5813   s5814  Movie  Louis C.K.: Live at the Comedy Store  Louis C.K.   \n",
       "\n",
       "            cast        country date_added  release_year  rating duration  \\\n",
       "5541  Louis C.K.  United States 2017-04-04          2017  74 min   74 min   \n",
       "5794  Louis C.K.  United States 2016-09-16          2010  84 min   84 min   \n",
       "5813  Louis C.K.  United States 2016-08-15          2015  66 min   66 min   \n",
       "\n",
       "     listed_in                                        description  \n",
       "5541    Movies  Louis C.K. muses on religion, eternal love, gi...  \n",
       "5794    Movies  Emmy-winning comedy writer Louis C.K. brings h...  \n",
       "5813    Movies  The comic puts his trademark hilarious/thought...  "
      ]
     },
     "execution_count": 41,
     "metadata": {},
     "output_type": "execute_result"
    }
   ],
   "source": [
    "df.loc[df['director'] == 'Louis C.K.', 'duration'] = df['rating']\n",
    "df[df.director == 'Louis C.K.'].head()"
   ]
  },
  {
   "cell_type": "code",
   "execution_count": 42,
   "id": "7ff6cae9",
   "metadata": {},
   "outputs": [
    {
     "data": {
      "text/html": [
       "<div>\n",
       "<style scoped>\n",
       "    .dataframe tbody tr th:only-of-type {\n",
       "        vertical-align: middle;\n",
       "    }\n",
       "\n",
       "    .dataframe tbody tr th {\n",
       "        vertical-align: top;\n",
       "    }\n",
       "\n",
       "    .dataframe thead th {\n",
       "        text-align: right;\n",
       "    }\n",
       "</style>\n",
       "<table border=\"1\" class=\"dataframe\">\n",
       "  <thead>\n",
       "    <tr style=\"text-align: right;\">\n",
       "      <th></th>\n",
       "      <th>show_id</th>\n",
       "      <th>type</th>\n",
       "      <th>title</th>\n",
       "      <th>director</th>\n",
       "      <th>cast</th>\n",
       "      <th>country</th>\n",
       "      <th>date_added</th>\n",
       "      <th>release_year</th>\n",
       "      <th>rating</th>\n",
       "      <th>duration</th>\n",
       "      <th>listed_in</th>\n",
       "      <th>description</th>\n",
       "    </tr>\n",
       "  </thead>\n",
       "  <tbody>\n",
       "    <tr>\n",
       "      <th>5541</th>\n",
       "      <td>s5542</td>\n",
       "      <td>Movie</td>\n",
       "      <td>Louis C.K. 2017</td>\n",
       "      <td>Louis C.K.</td>\n",
       "      <td>Louis C.K.</td>\n",
       "      <td>United States</td>\n",
       "      <td>2017-04-04</td>\n",
       "      <td>2017</td>\n",
       "      <td>Unavailable</td>\n",
       "      <td>74 min</td>\n",
       "      <td>Movies</td>\n",
       "      <td>Louis C.K. muses on religion, eternal love, gi...</td>\n",
       "    </tr>\n",
       "    <tr>\n",
       "      <th>5794</th>\n",
       "      <td>s5795</td>\n",
       "      <td>Movie</td>\n",
       "      <td>Louis C.K.: Hilarious</td>\n",
       "      <td>Louis C.K.</td>\n",
       "      <td>Louis C.K.</td>\n",
       "      <td>United States</td>\n",
       "      <td>2016-09-16</td>\n",
       "      <td>2010</td>\n",
       "      <td>Unavailable</td>\n",
       "      <td>84 min</td>\n",
       "      <td>Movies</td>\n",
       "      <td>Emmy-winning comedy writer Louis C.K. brings h...</td>\n",
       "    </tr>\n",
       "    <tr>\n",
       "      <th>5813</th>\n",
       "      <td>s5814</td>\n",
       "      <td>Movie</td>\n",
       "      <td>Louis C.K.: Live at the Comedy Store</td>\n",
       "      <td>Louis C.K.</td>\n",
       "      <td>Louis C.K.</td>\n",
       "      <td>United States</td>\n",
       "      <td>2016-08-15</td>\n",
       "      <td>2015</td>\n",
       "      <td>Unavailable</td>\n",
       "      <td>66 min</td>\n",
       "      <td>Movies</td>\n",
       "      <td>The comic puts his trademark hilarious/thought...</td>\n",
       "    </tr>\n",
       "  </tbody>\n",
       "</table>\n",
       "</div>"
      ],
      "text/plain": [
       "     show_id   type                                 title    director  \\\n",
       "5541   s5542  Movie                       Louis C.K. 2017  Louis C.K.   \n",
       "5794   s5795  Movie                 Louis C.K.: Hilarious  Louis C.K.   \n",
       "5813   s5814  Movie  Louis C.K.: Live at the Comedy Store  Louis C.K.   \n",
       "\n",
       "            cast        country date_added  release_year       rating  \\\n",
       "5541  Louis C.K.  United States 2017-04-04          2017  Unavailable   \n",
       "5794  Louis C.K.  United States 2016-09-16          2010  Unavailable   \n",
       "5813  Louis C.K.  United States 2016-08-15          2015  Unavailable   \n",
       "\n",
       "     duration listed_in                                        description  \n",
       "5541   74 min    Movies  Louis C.K. muses on religion, eternal love, gi...  \n",
       "5794   84 min    Movies  Emmy-winning comedy writer Louis C.K. brings h...  \n",
       "5813   66 min    Movies  The comic puts his trademark hilarious/thought...  "
      ]
     },
     "execution_count": 42,
     "metadata": {},
     "output_type": "execute_result"
    }
   ],
   "source": [
    "df.loc[df['director'] == 'Louis C.K.', 'rating'] = 'Unavailable'\n",
    "df[df.director == 'Louis C.K.'].head()"
   ]
  },
  {
   "cell_type": "code",
   "execution_count": 46,
   "id": "afe5deba",
   "metadata": {},
   "outputs": [
    {
     "data": {
      "text/plain": [
       "show_id         0\n",
       "type            0\n",
       "title           0\n",
       "director        0\n",
       "cast            0\n",
       "country         0\n",
       "date_added      0\n",
       "release_year    0\n",
       "rating          0\n",
       "duration        0\n",
       "listed_in       0\n",
       "description     0\n",
       "dtype: int64"
      ]
     },
     "execution_count": 46,
     "metadata": {},
     "output_type": "execute_result"
    }
   ],
   "source": [
    "df.isnull().sum()"
   ]
  },
  {
   "cell_type": "markdown",
   "id": "435129db",
   "metadata": {},
   "source": [
    "EXPLORATORY DATA ANALYSIS"
   ]
  },
  {
   "cell_type": "code",
   "execution_count": 47,
   "id": "2f901edd",
   "metadata": {},
   "outputs": [
    {
     "data": {
      "text/plain": [
       "type\n",
       "Movie      6131\n",
       "TV Show    2676\n",
       "Name: count, dtype: int64"
      ]
     },
     "execution_count": 47,
     "metadata": {},
     "output_type": "execute_result"
    }
   ],
   "source": [
    "df.type.value_counts()"
   ]
  },
  {
   "cell_type": "code",
   "execution_count": 48,
   "id": "f925de46",
   "metadata": {},
   "outputs": [
    {
     "data": {
      "text/plain": [
       "Text(0.5, 1.0, 'Count Vs Type of Shows')"
      ]
     },
     "execution_count": 48,
     "metadata": {},
     "output_type": "execute_result"
    },
    {
     "data": {
      "image/png": "[encoded data removed]",
      "text/plain": [
       "<Figure size 640x480 with 1 Axes>"
      ]
     },
     "metadata": {},
     "output_type": "display_data"
    }
   ],
   "source": [
    "sns.countplot(x = 'type', data = df)\n",
    "plt.title('Count Vs Type of Shows')"
   ]
  },
  {
   "cell_type": "markdown",
   "id": "2014de4b",
   "metadata": {},
   "source": [
    "On Netflix, there are more number of movies compared to TV shows"
   ]
  },
  {
   "cell_type": "markdown",
   "id": "29915b12",
   "metadata": {},
   "source": [
    "Country Analysis"
   ]
  },
  {
   "cell_type": "code",
   "execution_count": 49,
   "id": "77d5a5be",
   "metadata": {},
   "outputs": [
    {
     "data": {
      "text/plain": [
       "country\n",
       "United States     2818\n",
       "India              972\n",
       "Unavailable        831\n",
       "United Kingdom     419\n",
       "Japan              245\n",
       "South Korea        199\n",
       "Canada             181\n",
       "Spain              145\n",
       "France             124\n",
       "Mexico             110\n",
       "Name: count, dtype: int64"
      ]
     },
     "execution_count": 49,
     "metadata": {},
     "output_type": "execute_result"
    }
   ],
   "source": [
    "df['country'].value_counts().head(10)"
   ]
  },
  {
   "cell_type": "code",
   "execution_count": 6,
   "id": "dc623514",
   "metadata": {},
   "outputs": [
    {
     "data": {
      "text/plain": [
       "Text(0.5, 1.0, 'Netflix Content Categorized by Country')"
      ]
     },
     "execution_count": 6,
     "metadata": {},
     "output_type": "execute_result"
    },
    {
     "data": {
      "image/png": "[encoded data removed]",
      "text/plain": [
       "<Figure size 1200x600 with 1 Axes>"
      ]
     },
     "metadata": {},
     "output_type": "display_data"
    }
   ],
   "source": [
    "plt.figure(figsize = (12,6))\n",
    "sns.countplot(y = 'country', order = df['country'].value_counts().index[0:10],data = df)\n",
    "plt.title('Netflix Content Categorized by Country')"
   ]
  },
  {
   "cell_type": "code",
   "execution_count": 17,
   "id": "ab9a0b77",
   "metadata": {},
   "outputs": [],
   "source": [
    "movie_countries = df[df['type']=='Movie']\n",
    "tv_show_countries = df[df['type']=='TV Show']"
   ]
  },
  {
   "cell_type": "code",
   "execution_count": 18,
   "id": "a309836e",
   "metadata": {},
   "outputs": [
    {
     "data": {
      "image/png": "[encoded data removed]",
      "text/plain": [
       "<Figure size 1200x600 with 1 Axes>"
      ]
     },
     "metadata": {},
     "output_type": "display_data"
    },
    {
     "data": {
      "image/png": "[encoded data removed]",
      "text/plain": [
       "<Figure size 1200x600 with 1 Axes>"
      ]
     },
     "metadata": {},
     "output_type": "display_data"
    }
   ],
   "source": [
    "plt.figure(figsize= (12,6))\n",
    "sns.countplot(y='country', order = df['country'].value_counts().index[0:10],data= movie_countries)\n",
    "plt.title('Top 10 movie producing Countries')\n",
    "\n",
    "\n",
    "\n",
    "\n",
    "plt.figure(figsize=(12, 6))\n",
    "sns.countplot(y='country', order=df['country'].value_counts().index[0:10], data=tv_show_countries)\n",
    "plt.title('Top 10 TV Shows Producing Countries')\n",
    "plt.show() "
   ]
  },
  {
   "cell_type": "code",
   "execution_count": 19,
   "id": "921c49cd",
   "metadata": {},
   "outputs": [
    {
     "data": {
      "text/plain": [
       "rating\n",
       "TV-MA       3207\n",
       "TV-14       2160\n",
       "TV-PG        863\n",
       "R            799\n",
       "PG-13        490\n",
       "TV-Y7        334\n",
       "TV-Y         307\n",
       "PG           287\n",
       "TV-G         220\n",
       "NR            80\n",
       "G             41\n",
       "TV-Y7-FV       6\n",
       "NC-17          3\n",
       "UR             3\n",
       "74 min         1\n",
       "84 min         1\n",
       "66 min         1\n",
       "Name: count, dtype: int64"
      ]
     },
     "execution_count": 19,
     "metadata": {},
     "output_type": "execute_result"
    }
   ],
   "source": [
    "df.rating.value_counts()"
   ]
  },
  {
   "cell_type": "code",
   "execution_count": 21,
   "id": "5679b77f",
   "metadata": {},
   "outputs": [
    {
     "data": {
      "text/plain": [
       "Text(0.5, 1.0, 'Ratings of Shows on Netflix VS counts')"
      ]
     },
     "execution_count": 21,
     "metadata": {},
     "output_type": "execute_result"
    },
    {
     "data": {
      "image/png": "[encoded data removed]",
      "text/plain": [
       "<Figure size 900x600 with 1 Axes>"
      ]
     },
     "metadata": {},
     "output_type": "display_data"
    }
   ],
   "source": [
    "plt.figure(figsize = (9,6))\n",
    "sns.countplot(x = 'rating', order = df['rating'].value_counts().index[0:10],data = df)\n",
    "plt.title('Ratings of Shows on Netflix VS counts')"
   ]
  },
  {
   "cell_type": "markdown",
   "id": "2273b56e",
   "metadata": {},
   "source": [
    "Most of the shows has Ratings TV-MA and TV-14"
   ]
  },
  {
   "cell_type": "code",
   "execution_count": 23,
   "id": "350f3cd2",
   "metadata": {},
   "outputs": [
    {
     "data": {
      "text/plain": [
       "release_year\n",
       "2018    1147\n",
       "2017    1032\n",
       "2019    1030\n",
       "2020     953\n",
       "2016     902\n",
       "2021     592\n",
       "2015     560\n",
       "2014     352\n",
       "2013     288\n",
       "2012     237\n",
       "2010     194\n",
       "2011     185\n",
       "2009     152\n",
       "2008     136\n",
       "2006      96\n",
       "2007      88\n",
       "2005      80\n",
       "2004      64\n",
       "2003      61\n",
       "2002      51\n",
       "Name: count, dtype: int64"
      ]
     },
     "execution_count": 23,
     "metadata": {},
     "output_type": "execute_result"
    }
   ],
   "source": [
    "df.release_year.value_counts()[:20]"
   ]
  },
  {
   "cell_type": "code",
   "execution_count": 27,
   "id": "3243cbf3",
   "metadata": {},
   "outputs": [
    {
     "data": {
      "image/png": "[encoded data removed]",
      "text/plain": [
       "<Figure size 1000x600 with 1 Axes>"
      ]
     },
     "metadata": {},
     "output_type": "display_data"
    }
   ],
   "source": [
    "plt.figure(figsize = (10,6))\n",
    "sns.countplot(x = 'release_year', order = df['release_year'].value_counts().index[:20], data=df)\n",
    "plt.title('Release year of contents on Netflix Vs Count')\n",
    "plt.xticks(rotation=90)\n",
    "plt.show()"
   ]
  },
  {
   "cell_type": "code",
   "execution_count": 5,
   "id": "d91fa049",
   "metadata": {},
   "outputs": [
    {
     "data": {
      "text/plain": [
       "Text(0.5, 1.0, 'Top 20 Genres on Netflix')"
      ]
     },
     "execution_count": 5,
     "metadata": {},
     "output_type": "execute_result"
    },
    {
     "data": {
      "image/png": "[encoded data removed]",
      "text/plain": [
       "<Figure size 1200x800 with 1 Axes>"
      ]
     },
     "metadata": {},
     "output_type": "display_data"
    }
   ],
   "source": [
    "plt.figure(figsize = (12,8))\n",
    "sns.countplot(y = 'listed_in', order = df['listed_in'].value_counts().index[0:20], data = df)\n",
    "plt.title('Top 20 Genres on Netflix')"
   ]
  },
  {
   "cell_type": "markdown",
   "id": "700dec26",
   "metadata": {},
   "source": [
    "CONCLUSION\n",
    "From the analysis above, it can be deduced that:\n",
    "-Netflix has more Movies than TV shows\n",
    "-The Highest movies and Tv Shows producing country is United States\n",
    "-Most of the contents on Netflix are for mature Audiences\n",
    "-Netflix released the highest content in 2018 compared to other years\n",
    "-Dramas and International movies are the most popular Genres on Netflix"
   ]
  }
 ],
 "metadata": {
  "kernelspec": {
   "display_name": "Python 3 (ipykernel)",
   "language": "python",
   "name": "python3"
  },
  "language_info": {
   "codemirror_mode": {
    "name": "ipython",
    "version": 3
   },
   "file_extension": ".py",
   "mimetype": "text/x-python",
   "name": "python",
   "nbconvert_exporter": "python",
   "pygments_lexer": "ipython3",
   "version": "3.11.5"
  }
 },
 "nbformat": 4,
 "nbformat_minor": 5
}
